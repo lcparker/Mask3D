{
 "cells": [
  {
   "cell_type": "code",
   "execution_count": 33,
   "id": "bd01324b",
   "metadata": {},
   "outputs": [],
   "source": [
    "import sys\n",
    "dirs = \"../synthetic-pages\", \"../outputs\", \"../december_2024_progress_submission/\"\n",
    "for d in dirs:\n",
    "    if d not in sys.path:\n",
    "        sys.path.append(d)\n",
    "import torch\n",
    "import torch.nn.functional as F"
   ]
  },
  {
   "cell_type": "code",
   "execution_count": 34,
   "id": "02e31161",
   "metadata": {},
   "outputs": [],
   "source": [
    "from scrolls_instance_segmentation.data.synthetic_datamodule_cubes import SyntheticInstanceCubesDataset\n",
    "from datasets.papyrus import SyntheticPapyrusDataset\n",
    "\n",
    "\n",
    "ds = SyntheticInstanceCubesDataset(\"reference_volume.nrrd\", \"reference_labels.nrrd\")"
   ]
  },
  {
   "cell_type": "code",
   "execution_count": 35,
   "id": "1edb5449",
   "metadata": {},
   "outputs": [],
   "source": [
    "def dense_volume_with_labels_to_points(volume_HWD: torch.Tensor, \n",
    "                                       labels_NHWD: torch.Tensor, \n",
    "                                       min_density=0.1, \n",
    "                                       subsample_factor=4):\n",
    "    \"\"\"\n",
    "    Convert Nrrd volume and one-hot encoded label map to point cloud format with instance labels.\n",
    "    \n",
    "    Args:\n",
    "        volume: torch.Tensor - 3D array containing volume data\n",
    "        labelmap: torch.Tensor - one-hot encoded label map of shape (N, 256, 256, 256), where N is the number of labels\n",
    "        min_density: float - threshold for considering a voxel as papyrus\n",
    "        subsample_factor: int - factor to subsample points by to control memory usage\n",
    "    \n",
    "    Returns:\n",
    "        coords: torch.Tensor of shape [M, 3] - point coordinates\n",
    "        features: torch.Tensor of shape [M, 1] - density values\n",
    "        labels: torch.Tensor of shape [M] - instance labels\n",
    "    \"\"\"\n",
    "    assert len(volume_HWD.shape) == 3, \"Volume must be a 3D array\"\n",
    "    assert len(labels_NHWD.shape) == 4, \"Labelmap must be a 4D array\"\n",
    "    # Ensure volume and labelmap shapes match\n",
    "    if volume_HWD.shape != labels_NHWD.shape[1:]:\n",
    "        raise ValueError(\"Volume shape and labelmap spatial dimensions do not match\")\n",
    "    \n",
    "    # Convert one-hot labelmap to label indices\n",
    "    labelmap_HWD = torch.argmax(labels_NHWD, dim=0) # HACK the right way to do this is to pass both as tensors\n",
    "    \n",
    "    # Get coordinates of non-air voxels that have labels\n",
    "    occupied = torch.where((volume_HWD > min_density) & (labelmap_HWD > 0))  # Exclude 'air' label (0)\n",
    "    \n",
    "    # Stack coordinates\n",
    "    coords = torch.stack(occupied, axis=1)  # Shape: (M, 3), where M is the number of occupied voxels\n",
    "    features = volume_HWD[occupied][:, None]  # Shape: (M, 1), density values\n",
    "    point_labels = labelmap_HWD[occupied]  # Shape: (M,), instance labels\n",
    "    \n",
    "    # Subsample points while maintaining structure\n",
    "    N = coords.shape[0]\n",
    "    if subsample_factor > 1:\n",
    "        idx = np.random.choice(N, N // subsample_factor, replace=False)\n",
    "        coords = coords[idx]\n",
    "        features = features[idx]\n",
    "        point_labels = point_labels[idx]\n",
    "    \n",
    "    # Convert to torch tensors\n",
    "    return (coords.float(), \n",
    "            torch.hstack([features, coords]).float(),\n",
    "            point_labels.long())"
   ]
  },
  {
   "cell_type": "code",
   "execution_count": 36,
   "id": "3ba088b5",
   "metadata": {},
   "outputs": [],
   "source": [
    "batch = next(iter(ds))\n",
    "idx = 0\n",
    "new_size = (96,96,96)\n",
    "\n",
    "batch['vol'] = F.interpolate(\n",
    "    batch['vol'][None, None].float(), \n",
    "    size=new_size, \n",
    "    mode='trilinear', \n",
    "    align_corners=True\n",
    ")[0][0]\n",
    "batch['lbl'] = F.interpolate(\n",
    "    batch['lbl'][None].float(), \n",
    "    size=new_size, \n",
    "    mode='trilinear', \n",
    "    align_corners=True\n",
    ")[0].long()\n",
    "coords, features, point_labels = dense_volume_with_labels_to_points(\n",
    "    batch['vol'], batch['lbl'], min_density=batch['vol'].max()/2, subsample_factor=1\n",
    ")\n",
    "\n",
    "# Get instance IDs once, excluding background (0)\n",
    "instance_ids = torch.unique(point_labels)[1:]\n",
    "num_points = len(point_labels)\n",
    "\n",
    "# Create the (M, 3) tensor\n",
    "\n",
    "segmentation_instance_tensor = torch.zeros((num_points, 3), dtype=torch.long)\n",
    "segmentation_instance_tensor[:, 0] = 1  # Segment mask\n",
    "segmentation_instance_tensor[:, 1] = point_labels  # Instance masks\n",
    "segmentation_instance_tensor[:, 2] = 1  # Segment masks\n",
    "\n",
    "# Return the updated output\n",
    "__out = (coords.numpy(), \n",
    "        features.numpy(), \n",
    "        segmentation_instance_tensor.numpy(), \n",
    "        f\"data_{idx}\", \n",
    "        None, \n",
    "        None, \n",
    "        coords.numpy().copy(), \n",
    "        None)"
   ]
  },
  {
   "cell_type": "code",
   "execution_count": 37,
   "id": "1f197f66",
   "metadata": {},
   "outputs": [
    {
     "data": {
      "text/plain": [
       "<matplotlib.image.AxesImage at 0x30cd2c1d0>"
      ]
     },
     "execution_count": 37,
     "metadata": {},
     "output_type": "execute_result"
    },
    {
     "data": {
      "image/png": "[encoded data removed]",
      "text/plain": [
       "<Figure size 640x480 with 1 Axes>"
      ]
     },
     "metadata": {},
     "output_type": "display_data"
    }
   ],
   "source": [
    "plt.imshow(batch['lbl'].argmax(0)[:, 48, :])\n"
   ]
  },
  {
   "cell_type": "code",
   "execution_count": 38,
   "id": "cd7edd91",
   "metadata": {},
   "outputs": [],
   "source": [
    "from volume_pointcloud_conversion import pointcloud_to_volume\n",
    "\n",
    "vol = pointcloud_to_volume(coords, segmentation_instance_tensor[:, 1], (96, 96, 96))"
   ]
  },
  {
   "cell_type": "code",
   "execution_count": 39,
   "id": "7f5f2d1b",
   "metadata": {},
   "outputs": [
    {
     "data": {
      "text/plain": [
       "<matplotlib.image.AxesImage at 0x30cc0c1d0>"
      ]
     },
     "execution_count": 39,
     "metadata": {},
     "output_type": "execute_result"
    },
    {
     "data": {
      "image/png": "[encoded data removed]",
      "text/plain": [
       "<Figure size 640x480 with 1 Axes>"
      ]
     },
     "metadata": {},
     "output_type": "display_data"
    }
   ],
   "source": [
    "import matplotlib.pyplot as plt\n",
    "plt.imshow(vol[:, 48, :])"
   ]
  },
  {
   "cell_type": "code",
   "execution_count": 43,
   "id": "94d90745",
   "metadata": {},
   "outputs": [],
   "source": [
    "from synthetic_pages.nrrd_file import Nrrd\n",
    "features = Nrrd.from_file(\"./saved/pretraining-2/features_data_0_epoch=129.nrrd\").volume\n",
    "preds = Nrrd.from_file(\"./saved/pretraining-2/output_mask_logits_data_0_epoch=129.nrrd\").volume\n",
    "targets = Nrrd.from_file(\"./saved/pretraining-2/target_data_0_epoch=129.nrrd\").volume"
   ]
  },
  {
   "cell_type": "code",
   "execution_count": 44,
   "id": "f4a9898c",
   "metadata": {},
   "outputs": [],
   "source": [
    "from eval.instance_logger import WandbInstanceImageLogger\n",
    "\n",
    "wl = WandbInstanceImageLogger()"
   ]
  },
  {
   "cell_type": "code",
   "execution_count": 47,
   "id": "2a82ea02",
   "metadata": {},
   "outputs": [],
   "source": [
    "images = wl.log(torch.from_numpy(features), torch.from_numpy(preds), torch.from_numpy(targets), 0)"
   ]
  }
 ],
 "metadata": {
  "kernelspec": {
   "display_name": "ml",
   "language": "python",
   "name": "python3"
  },
  "language_info": {
   "codemirror_mode": {
    "name": "ipython",
    "version": 3
   },
   "file_extension": ".py",
   "mimetype": "text/x-python",
   "name": "python",
   "nbconvert_exporter": "python",
   "pygments_lexer": "ipython3",
   "version": "3.11.7"
  }
 },
 "nbformat": 4,
 "nbformat_minor": 5
}
